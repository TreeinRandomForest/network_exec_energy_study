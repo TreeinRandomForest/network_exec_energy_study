{
 "cells": [
  {
   "cell_type": "code",
   "execution_count": null,
   "id": "82acabbf",
   "metadata": {},
   "outputs": [],
   "source": [
    "%load_ext autoreload\n",
    "%autoreload 2\n",
    "%matplotlib inline"
   ]
  },
  {
   "cell_type": "code",
   "execution_count": 1,
   "id": "29463438",
   "metadata": {},
   "outputs": [],
   "source": [
    "from eigen_analysis import *\n",
    "import os"
   ]
  },
  {
   "cell_type": "markdown",
   "id": "559d95ed",
   "metadata": {},
   "source": [
    "### Raw csv file"
   ]
  },
  {
   "cell_type": "markdown",
   "id": "0e851766",
   "metadata": {},
   "source": [
    "#### Read data"
   ]
  },
  {
   "cell_type": "code",
   "execution_count": 31,
   "id": "0d8f157b",
   "metadata": {},
   "outputs": [
    {
     "name": "stdout",
     "output_type": "stream",
     "text": [
      "200k 0xd00\n"
     ]
    }
   ],
   "source": [
    "fname = 'linux_mcd_dmesg_0_0xd00_135_200k/linux.mcd.dmesg.0_6_10_0xd00_135_200000'\n",
    "qps = str(int(fname.split('_')[-1])//1000) + 'k'\n",
    "dvfs = fname.split('_')[-3]\n",
    "print(qps, dvfs)\n",
    "\n",
    "df = pd.read_csv(f'{qps}_qps/' + fname, sep=\" \", skiprows=1, index_col=0, names=LINUX_COLS)"
   ]
  },
  {
   "cell_type": "markdown",
   "id": "64ef479c",
   "metadata": {},
   "source": [
    "#### RDTSC file"
   ]
  },
  {
   "cell_type": "code",
   "execution_count": 32,
   "id": "fc2e9540",
   "metadata": {},
   "outputs": [],
   "source": [
    "tag = fname.split('.')[-1].split('_')\n",
    "desc = '_'.join(np.delete(tag, [1]))\n",
    "loc_rdtsc = 'linux_mcd_rdtsc_0_' + dvfs + '_135_' + qps\n",
    "rdtsc_fname = f'{loc_rdtsc}/linux.mcd.rdtsc.{desc}'\n",
    "START_RDTSC, END_RDTSC = get_rdtsc(f'{qps}_qps/' + rdtsc_fname)"
   ]
  },
  {
   "cell_type": "markdown",
   "id": "d8a0bca1",
   "metadata": {},
   "source": [
    "#### Impact of time filtering"
   ]
  },
  {
   "cell_type": "code",
   "execution_count": 33,
   "id": "d63cb12c",
   "metadata": {},
   "outputs": [
    {
     "name": "stdout",
     "output_type": "stream",
     "text": [
      "71192578637589 71250593056120\n",
      "Shape before time filtering: (523548, 15)\n",
      "Shape after time filtering: (523387, 15)\n"
     ]
    }
   ],
   "source": [
    "print(START_RDTSC, END_RDTSC)\n",
    "print(f'Shape before time filtering: {df.shape}')\n",
    "df = df[(df['timestamp'] >= START_RDTSC) & (df['timestamp'] <= END_RDTSC)].copy()\n",
    "print(f'Shape after time filtering: {df.shape}')"
   ]
  },
  {
   "cell_type": "markdown",
   "id": "c6beeddb",
   "metadata": {},
   "source": [
    "#### Unit conversions for time and energy"
   ]
  },
  {
   "cell_type": "code",
   "execution_count": 34,
   "id": "ff7d11a1",
   "metadata": {},
   "outputs": [],
   "source": [
    "df['timestamp'] = df['timestamp'] - df['timestamp'].min()\n",
    "df['timestamp'] = df['timestamp'] * TIME_CONVERSION_khz\n",
    "df['joules'] = df['joules'] * JOULE_CONVERSION"
   ]
  },
  {
   "cell_type": "markdown",
   "id": "ca61cb20",
   "metadata": {},
   "source": [
    "#### Drop all sleep state columns"
   ]
  },
  {
   "cell_type": "code",
   "execution_count": 35,
   "id": "23f3a0b6",
   "metadata": {},
   "outputs": [],
   "source": [
    "df = df.drop(['c6', 'c1', 'c1e', 'c3', 'c7'], axis=1).copy()"
   ]
  },
  {
   "cell_type": "markdown",
   "id": "7631da6c",
   "metadata": {},
   "source": [
    "#### Drop null columns"
   ]
  },
  {
   "cell_type": "code",
   "execution_count": 37,
   "id": "764c6883",
   "metadata": {},
   "outputs": [
    {
     "data": {
      "text/plain": [
       "rx_desc         0\n",
       "rx_bytes        0\n",
       "tx_desc         0\n",
       "tx_bytes        0\n",
       "instructions    0\n",
       "cycles          0\n",
       "ref_cycles      0\n",
       "llc_miss        0\n",
       "joules          0\n",
       "timestamp       0\n",
       "dtype: int64"
      ]
     },
     "execution_count": 37,
     "metadata": {},
     "output_type": "execute_result"
    }
   ],
   "source": [
    "### df.dropna(inplace=True)\n",
    "df.isnull().sum(axis=0)"
   ]
  },
  {
   "cell_type": "markdown",
   "id": "5062d6a4",
   "metadata": {},
   "source": [
    "#### No negative raw counters since they are all unsigned ints"
   ]
  },
  {
   "cell_type": "code",
   "execution_count": 38,
   "id": "4f806ab7",
   "metadata": {},
   "outputs": [],
   "source": [
    "# NOTE this should never be the case\n",
    "df_neg = df[(df['joules'] < 0) | (df['instructions'] < 0) | (df['cycles'] < 0) | (df['ref_cycles'] < 0) | (df['llc_miss'] < 0)].copy()\n",
    "if df_neg.shape[0] > 0:\n",
    "    print(\"UNEXPECTED NEGATIVE VAL IN \", fname)"
   ]
  },
  {
   "cell_type": "markdown",
   "id": "cf49e4e0",
   "metadata": {},
   "source": [
    "#### Separate metrics that are collected per-interrupt (as opposed to per-ms) and also are not counter based i.e. shouldn't be diffed"
   ]
  },
  {
   "cell_type": "code",
   "execution_count": 39,
   "id": "2d19e598",
   "metadata": {},
   "outputs": [],
   "source": [
    "# non-continuous counter metrics: rx-bytes/desc, tx-bytes/desc\n",
    "df_no_diffs = df[['rx_bytes' , 'rx_desc', 'tx_bytes', 'tx_desc']].copy()"
   ]
  },
  {
   "cell_type": "code",
   "execution_count": 41,
   "id": "e3a804ab",
   "metadata": {},
   "outputs": [
    {
     "data": {
      "text/html": [
       "<div>\n",
       "<style scoped>\n",
       "    .dataframe tbody tr th:only-of-type {\n",
       "        vertical-align: middle;\n",
       "    }\n",
       "\n",
       "    .dataframe tbody tr th {\n",
       "        vertical-align: top;\n",
       "    }\n",
       "\n",
       "    .dataframe thead th {\n",
       "        text-align: right;\n",
       "    }\n",
       "</style>\n",
       "<table border=\"1\" class=\"dataframe\">\n",
       "  <thead>\n",
       "    <tr style=\"text-align: right;\">\n",
       "      <th></th>\n",
       "      <th>rx_bytes</th>\n",
       "      <th>rx_desc</th>\n",
       "      <th>tx_bytes</th>\n",
       "      <th>tx_desc</th>\n",
       "    </tr>\n",
       "    <tr>\n",
       "      <th>i</th>\n",
       "      <th></th>\n",
       "      <th></th>\n",
       "      <th></th>\n",
       "      <th></th>\n",
       "    </tr>\n",
       "  </thead>\n",
       "  <tbody>\n",
       "    <tr>\n",
       "      <th>158</th>\n",
       "      <td>0</td>\n",
       "      <td>0</td>\n",
       "      <td>0</td>\n",
       "      <td>0</td>\n",
       "    </tr>\n",
       "    <tr>\n",
       "      <th>159</th>\n",
       "      <td>668</td>\n",
       "      <td>1</td>\n",
       "      <td>0</td>\n",
       "      <td>0</td>\n",
       "    </tr>\n",
       "    <tr>\n",
       "      <th>160</th>\n",
       "      <td>246</td>\n",
       "      <td>2</td>\n",
       "      <td>66</td>\n",
       "      <td>2</td>\n",
       "    </tr>\n",
       "    <tr>\n",
       "      <th>161</th>\n",
       "      <td>116</td>\n",
       "      <td>1</td>\n",
       "      <td>132</td>\n",
       "      <td>4</td>\n",
       "    </tr>\n",
       "    <tr>\n",
       "      <th>162</th>\n",
       "      <td>131</td>\n",
       "      <td>1</td>\n",
       "      <td>66</td>\n",
       "      <td>2</td>\n",
       "    </tr>\n",
       "  </tbody>\n",
       "</table>\n",
       "</div>"
      ],
      "text/plain": [
       "     rx_bytes  rx_desc  tx_bytes  tx_desc\n",
       "i                                        \n",
       "158         0        0         0        0\n",
       "159       668        1         0        0\n",
       "160       246        2        66        2\n",
       "161       116        1       132        4\n",
       "162       131        1        66        2"
      ]
     },
     "execution_count": 41,
     "metadata": {},
     "output_type": "execute_result"
    }
   ],
   "source": [
    "df_no_diffs.head()"
   ]
  },
  {
   "cell_type": "markdown",
   "id": "5dfeb3f6",
   "metadata": {},
   "source": [
    "#### Separate counter-based per-ms metrics that need to be diffed"
   ]
  },
  {
   "cell_type": "code",
   "execution_count": 43,
   "id": "1300435f",
   "metadata": {},
   "outputs": [
    {
     "name": "stdout",
     "output_type": "stream",
     "text": [
      "Shape before filtering: (523387, 6)\n",
      "Shape after filtering: (19293, 6)\n"
     ]
    }
   ],
   "source": [
    "df_diffs = df[['instructions', 'cycles', 'ref_cycles', 'llc_miss', 'joules', 'timestamp']].copy()\n",
    "\n",
    "df_diffs.columns = [f'{c}_diff' for c in df_diffs.columns]\n",
    "\n",
    "print(f'Shape before filtering: {df_diffs.shape}')\n",
    "df_diffs = df_diffs[(df_diffs['joules_diff']>0) & \\\n",
    "                    (df_diffs['instructions_diff'] > 0) &\\\n",
    "                    (df_diffs['cycles_diff'] > 0) &\\\n",
    "                    (df_diffs['ref_cycles_diff'] > 0) &\\\n",
    "                    (df_diffs['llc_miss_diff'] > 0)].copy()\n",
    "print(f'Shape after filtering: {df_diffs.shape}')"
   ]
  },
  {
   "cell_type": "markdown",
   "id": "1a615686",
   "metadata": {},
   "source": [
    "##### Why are there non-positive entries?"
   ]
  },
  {
   "cell_type": "code",
   "execution_count": 47,
   "id": "3170c3f9",
   "metadata": {},
   "outputs": [],
   "source": [
    "df_diffs = df[['instructions', 'cycles', 'ref_cycles', 'llc_miss', 'joules', 'timestamp']].copy()\n",
    "\n",
    "df_diffs.columns = [f'{c}_diff' for c in df_diffs.columns]"
   ]
  },
  {
   "cell_type": "code",
   "execution_count": 68,
   "id": "c29205f9",
   "metadata": {},
   "outputs": [
    {
     "name": "stdout",
     "output_type": "stream",
     "text": [
      "instructions_diff 0 0 504094\n",
      "cycles_diff 0 0 504094\n",
      "ref_cycles_diff 0 0 504094\n",
      "llc_miss_diff 0 0 504094\n",
      "joules_diff 0 0 504094\n",
      "timestamp_diff 0 0 1\n"
     ]
    }
   ],
   "source": [
    "#no negative entries and no null entries\n",
    "for c in df_diffs.columns: print(c, \\\n",
    "                                 #negative entries\n",
    "                                 df_diffs[(df_diffs[c] < 0)][c].shape[0], \\\n",
    "                                 \n",
    "                                 #null entries\n",
    "                                 df_diffs[c].isnull().sum(), \\\n",
    "                                 \n",
    "                                 #zero entries\n",
    "                                 (df_diffs[c]==0).sum())"
   ]
  },
  {
   "cell_type": "code",
   "execution_count": 70,
   "id": "2775d6e5",
   "metadata": {},
   "outputs": [
    {
     "data": {
      "text/plain": [
       "19293"
      ]
     },
     "execution_count": 70,
     "metadata": {},
     "output_type": "execute_result"
    }
   ],
   "source": [
    "'''\n",
    "The non-zero entries should coincide across the columns i.e. the same set of rows should have non-zero entries for\n",
    "all columns. \n",
    "\n",
    "The subtraction below indicates this is true - one can verify it more explicitly\n",
    "'''\n",
    "\n",
    "523387 - 504094"
   ]
  },
  {
   "cell_type": "code",
   "execution_count": 82,
   "id": "cc8861d9",
   "metadata": {},
   "outputs": [],
   "source": [
    "neg_idx = {}\n",
    "for c in df_diffs:\n",
    "    neg_idx[c] = set(df_diffs[df_diffs[c] > 0].index)"
   ]
  },
  {
   "cell_type": "code",
   "execution_count": 87,
   "id": "c84cf9b8",
   "metadata": {},
   "outputs": [
    {
     "name": "stdout",
     "output_type": "stream",
     "text": [
      "instructions_diff cycles_diff\n",
      "0\n",
      "cycles_diff ref_cycles_diff\n",
      "0\n",
      "ref_cycles_diff llc_miss_diff\n",
      "0\n",
      "llc_miss_diff joules_diff\n",
      "0\n",
      "joules_diff timestamp_diff\n",
      "504093\n"
     ]
    }
   ],
   "source": [
    "keys = list(neg_idx.keys())\n",
    "for k in range(1, len(keys)):\n",
    "    prev_k = keys[k-1]\n",
    "    curr_k = keys[k]\n",
    "    print(prev_k, curr_k)\n",
    "    \n",
    "    print(len(neg_idx[prev_k].symmetric_difference(neg_idx[curr_k])))"
   ]
  },
  {
   "cell_type": "code",
   "execution_count": 88,
   "id": "ad69b74d",
   "metadata": {},
   "outputs": [
    {
     "name": "stdout",
     "output_type": "stream",
     "text": [
      "Shape before filtering: (523387, 6)\n",
      "Shape after filtering: (19293, 6)\n"
     ]
    }
   ],
   "source": [
    "df_diffs = df[['instructions', 'cycles', 'ref_cycles', 'llc_miss', 'joules', 'timestamp']].copy()\n",
    "\n",
    "df_diffs.columns = [f'{c}_diff' for c in df_diffs.columns]\n",
    "\n",
    "print(f'Shape before filtering: {df_diffs.shape}')\n",
    "df_diffs = df_diffs[(df_diffs['joules_diff']>0) & \\\n",
    "                    (df_diffs['instructions_diff'] > 0) &\\\n",
    "                    (df_diffs['cycles_diff'] > 0) &\\\n",
    "                    (df_diffs['ref_cycles_diff'] > 0) &\\\n",
    "                    (df_diffs['llc_miss_diff'] > 0)].copy()\n",
    "print(f'Shape after filtering: {df_diffs.shape}')"
   ]
  },
  {
   "cell_type": "markdown",
   "id": "7e6a05a6",
   "metadata": {},
   "source": [
    "#### Diffs of per-ms column"
   ]
  },
  {
   "cell_type": "code",
   "execution_count": 89,
   "id": "30729485",
   "metadata": {},
   "outputs": [],
   "source": [
    "tmp = df_diffs.diff().copy()"
   ]
  },
  {
   "cell_type": "code",
   "execution_count": 90,
   "id": "27775f38",
   "metadata": {},
   "outputs": [
    {
     "data": {
      "text/html": [
       "<div>\n",
       "<style scoped>\n",
       "    .dataframe tbody tr th:only-of-type {\n",
       "        vertical-align: middle;\n",
       "    }\n",
       "\n",
       "    .dataframe tbody tr th {\n",
       "        vertical-align: top;\n",
       "    }\n",
       "\n",
       "    .dataframe thead th {\n",
       "        text-align: right;\n",
       "    }\n",
       "</style>\n",
       "<table border=\"1\" class=\"dataframe\">\n",
       "  <thead>\n",
       "    <tr style=\"text-align: right;\">\n",
       "      <th></th>\n",
       "      <th>instructions_diff</th>\n",
       "      <th>cycles_diff</th>\n",
       "      <th>ref_cycles_diff</th>\n",
       "      <th>llc_miss_diff</th>\n",
       "      <th>joules_diff</th>\n",
       "      <th>timestamp_diff</th>\n",
       "    </tr>\n",
       "    <tr>\n",
       "      <th>i</th>\n",
       "      <th></th>\n",
       "      <th></th>\n",
       "      <th></th>\n",
       "      <th></th>\n",
       "      <th></th>\n",
       "      <th></th>\n",
       "    </tr>\n",
       "  </thead>\n",
       "  <tbody>\n",
       "    <tr>\n",
       "      <th>168</th>\n",
       "      <td>NaN</td>\n",
       "      <td>NaN</td>\n",
       "      <td>NaN</td>\n",
       "      <td>NaN</td>\n",
       "      <td>NaN</td>\n",
       "      <td>NaN</td>\n",
       "    </tr>\n",
       "    <tr>\n",
       "      <th>207</th>\n",
       "      <td>453435.0</td>\n",
       "      <td>1200901.0</td>\n",
       "      <td>2678875.0</td>\n",
       "      <td>3712.0</td>\n",
       "      <td>0.023745</td>\n",
       "      <td>0.001000</td>\n",
       "    </tr>\n",
       "    <tr>\n",
       "      <th>243</th>\n",
       "      <td>408433.0</td>\n",
       "      <td>893152.0</td>\n",
       "      <td>1992474.0</td>\n",
       "      <td>2357.0</td>\n",
       "      <td>0.032351</td>\n",
       "      <td>0.001019</td>\n",
       "    </tr>\n",
       "    <tr>\n",
       "      <th>278</th>\n",
       "      <td>410936.0</td>\n",
       "      <td>837830.0</td>\n",
       "      <td>1869021.0</td>\n",
       "      <td>2061.0</td>\n",
       "      <td>0.030932</td>\n",
       "      <td>0.001010</td>\n",
       "    </tr>\n",
       "    <tr>\n",
       "      <th>310</th>\n",
       "      <td>391844.0</td>\n",
       "      <td>831453.0</td>\n",
       "      <td>1854811.0</td>\n",
       "      <td>2003.0</td>\n",
       "      <td>0.031252</td>\n",
       "      <td>0.001060</td>\n",
       "    </tr>\n",
       "  </tbody>\n",
       "</table>\n",
       "</div>"
      ],
      "text/plain": [
       "     instructions_diff  cycles_diff  ref_cycles_diff  llc_miss_diff   \n",
       "i                                                                     \n",
       "168                NaN          NaN              NaN            NaN  \\\n",
       "207           453435.0    1200901.0        2678875.0         3712.0   \n",
       "243           408433.0     893152.0        1992474.0         2357.0   \n",
       "278           410936.0     837830.0        1869021.0         2061.0   \n",
       "310           391844.0     831453.0        1854811.0         2003.0   \n",
       "\n",
       "     joules_diff  timestamp_diff  \n",
       "i                                 \n",
       "168          NaN             NaN  \n",
       "207     0.023745        0.001000  \n",
       "243     0.032351        0.001019  \n",
       "278     0.030932        0.001010  \n",
       "310     0.031252        0.001060  "
      ]
     },
     "execution_count": 90,
     "metadata": {},
     "output_type": "execute_result"
    }
   ],
   "source": [
    "tmp.head()"
   ]
  },
  {
   "cell_type": "code",
   "execution_count": 91,
   "id": "2c13143b",
   "metadata": {},
   "outputs": [],
   "source": [
    "df_diffs_neg = tmp[(tmp['joules_diff'] < 0) \\\n",
    "                       | (tmp['instructions_diff'] < 0) \\\n",
    "                       | (tmp['cycles_diff'] < 0) \\\n",
    "                       | (tmp['ref_cycles_diff'] < 0) \\\n",
    "                       | (tmp['llc_miss_diff'] < 0)]"
   ]
  },
  {
   "cell_type": "code",
   "execution_count": 92,
   "id": "56f95d89",
   "metadata": {},
   "outputs": [
    {
     "name": "stdout",
     "output_type": "stream",
     "text": [
      "19293 1\n"
     ]
    }
   ],
   "source": [
    "print(f'{tmp.shape[0]} {df_diffs_neg.shape[0]}')"
   ]
  },
  {
   "cell_type": "markdown",
   "id": "a42b56e5",
   "metadata": {},
   "source": [
    "##### Examine negative rows"
   ]
  },
  {
   "cell_type": "code",
   "execution_count": 94,
   "id": "a79e2d73",
   "metadata": {},
   "outputs": [
    {
     "data": {
      "text/html": [
       "<div>\n",
       "<style scoped>\n",
       "    .dataframe tbody tr th:only-of-type {\n",
       "        vertical-align: middle;\n",
       "    }\n",
       "\n",
       "    .dataframe tbody tr th {\n",
       "        vertical-align: top;\n",
       "    }\n",
       "\n",
       "    .dataframe thead th {\n",
       "        text-align: right;\n",
       "    }\n",
       "</style>\n",
       "<table border=\"1\" class=\"dataframe\">\n",
       "  <thead>\n",
       "    <tr style=\"text-align: right;\">\n",
       "      <th></th>\n",
       "      <th>instructions_diff</th>\n",
       "      <th>cycles_diff</th>\n",
       "      <th>ref_cycles_diff</th>\n",
       "      <th>llc_miss_diff</th>\n",
       "      <th>joules_diff</th>\n",
       "      <th>timestamp_diff</th>\n",
       "    </tr>\n",
       "    <tr>\n",
       "      <th>i</th>\n",
       "      <th></th>\n",
       "      <th></th>\n",
       "      <th></th>\n",
       "      <th></th>\n",
       "      <th></th>\n",
       "      <th></th>\n",
       "    </tr>\n",
       "  </thead>\n",
       "  <tbody>\n",
       "    <tr>\n",
       "      <th>57927</th>\n",
       "      <td>-809958165.0</td>\n",
       "      <td>-1.605617e+09</td>\n",
       "      <td>-3.582787e+09</td>\n",
       "      <td>-5015000.0</td>\n",
       "      <td>-147.536976</td>\n",
       "      <td>0.000892</td>\n",
       "    </tr>\n",
       "  </tbody>\n",
       "</table>\n",
       "</div>"
      ],
      "text/plain": [
       "       instructions_diff   cycles_diff  ref_cycles_diff  llc_miss_diff   \n",
       "i                                                                        \n",
       "57927       -809958165.0 -1.605617e+09    -3.582787e+09     -5015000.0  \\\n",
       "\n",
       "       joules_diff  timestamp_diff  \n",
       "i                                   \n",
       "57927  -147.536976        0.000892  "
      ]
     },
     "execution_count": 94,
     "metadata": {},
     "output_type": "execute_result"
    }
   ],
   "source": [
    "df_diffs_neg"
   ]
  },
  {
   "cell_type": "code",
   "execution_count": 96,
   "id": "bb0e576e",
   "metadata": {},
   "outputs": [
    {
     "data": {
      "text/plain": [
       "instructions_diff    6.107979e+12\n",
       "cycles_diff          1.032032e+13\n",
       "ref_cycles_diff      1.438424e+13\n",
       "llc_miss_diff        1.792888e+10\n",
       "joules_diff          2.787587e+04\n",
       "timestamp_diff       2.111743e+00\n",
       "Name: 57927, dtype: float64"
      ]
     },
     "execution_count": 96,
     "metadata": {},
     "output_type": "execute_result"
    }
   ],
   "source": [
    "df_diffs.loc[df_diffs_neg.index[0]]"
   ]
  },
  {
   "cell_type": "markdown",
   "id": "58631b66",
   "metadata": {},
   "source": [
    "##### Reset index to make search easier"
   ]
  },
  {
   "cell_type": "code",
   "execution_count": 104,
   "id": "ba5d1699",
   "metadata": {},
   "outputs": [],
   "source": [
    "#focus on df_diffs (not actual diffs) and tmp (actual diffs) and df_diffs_neg (negative diffs)\n",
    "a = df_diffs.reset_index().copy()\n",
    "b = a.diff().copy()\n",
    "c = b[(b['joules_diff'] < 0) \\\n",
    "                       | (b['instructions_diff'] < 0) \\\n",
    "                       | (b['cycles_diff'] < 0) \\\n",
    "                       | (b['ref_cycles_diff'] < 0) \\\n",
    "                       | (b['llc_miss_diff'] < 0)]"
   ]
  },
  {
   "cell_type": "code",
   "execution_count": 105,
   "id": "508a0e4c",
   "metadata": {},
   "outputs": [
    {
     "data": {
      "text/html": [
       "<div>\n",
       "<style scoped>\n",
       "    .dataframe tbody tr th:only-of-type {\n",
       "        vertical-align: middle;\n",
       "    }\n",
       "\n",
       "    .dataframe tbody tr th {\n",
       "        vertical-align: top;\n",
       "    }\n",
       "\n",
       "    .dataframe thead th {\n",
       "        text-align: right;\n",
       "    }\n",
       "</style>\n",
       "<table border=\"1\" class=\"dataframe\">\n",
       "  <thead>\n",
       "    <tr style=\"text-align: right;\">\n",
       "      <th></th>\n",
       "      <th>i</th>\n",
       "      <th>instructions_diff</th>\n",
       "      <th>cycles_diff</th>\n",
       "      <th>ref_cycles_diff</th>\n",
       "      <th>llc_miss_diff</th>\n",
       "      <th>joules_diff</th>\n",
       "      <th>timestamp_diff</th>\n",
       "    </tr>\n",
       "  </thead>\n",
       "  <tbody>\n",
       "    <tr>\n",
       "      <th>2035</th>\n",
       "      <td>14.0</td>\n",
       "      <td>-809958165.0</td>\n",
       "      <td>-1.605617e+09</td>\n",
       "      <td>-3.582787e+09</td>\n",
       "      <td>-5015000.0</td>\n",
       "      <td>-147.536976</td>\n",
       "      <td>0.000892</td>\n",
       "    </tr>\n",
       "  </tbody>\n",
       "</table>\n",
       "</div>"
      ],
      "text/plain": [
       "         i  instructions_diff   cycles_diff  ref_cycles_diff  llc_miss_diff   \n",
       "2035  14.0       -809958165.0 -1.605617e+09    -3.582787e+09     -5015000.0  \\\n",
       "\n",
       "      joules_diff  timestamp_diff  \n",
       "2035  -147.536976        0.000892  "
      ]
     },
     "execution_count": 105,
     "metadata": {},
     "output_type": "execute_result"
    }
   ],
   "source": [
    "c"
   ]
  },
  {
   "cell_type": "code",
   "execution_count": 109,
   "id": "a071b7f1",
   "metadata": {},
   "outputs": [
    {
     "data": {
      "text/html": [
       "<div>\n",
       "<style scoped>\n",
       "    .dataframe tbody tr th:only-of-type {\n",
       "        vertical-align: middle;\n",
       "    }\n",
       "\n",
       "    .dataframe tbody tr th {\n",
       "        vertical-align: top;\n",
       "    }\n",
       "\n",
       "    .dataframe thead th {\n",
       "        text-align: right;\n",
       "    }\n",
       "</style>\n",
       "<table border=\"1\" class=\"dataframe\">\n",
       "  <thead>\n",
       "    <tr style=\"text-align: right;\">\n",
       "      <th></th>\n",
       "      <th>i</th>\n",
       "      <th>instructions_diff</th>\n",
       "      <th>cycles_diff</th>\n",
       "      <th>ref_cycles_diff</th>\n",
       "      <th>llc_miss_diff</th>\n",
       "      <th>joules_diff</th>\n",
       "      <th>timestamp_diff</th>\n",
       "    </tr>\n",
       "  </thead>\n",
       "  <tbody>\n",
       "    <tr>\n",
       "      <th>2032</th>\n",
       "      <td>57866</td>\n",
       "      <td>6108788271841</td>\n",
       "      <td>10321924170240</td>\n",
       "      <td>14387815972221</td>\n",
       "      <td>17933893107</td>\n",
       "      <td>28023.346590</td>\n",
       "      <td>2.108805</td>\n",
       "    </tr>\n",
       "    <tr>\n",
       "      <th>2033</th>\n",
       "      <td>57897</td>\n",
       "      <td>6108788666437</td>\n",
       "      <td>10321924990990</td>\n",
       "      <td>14387817803194</td>\n",
       "      <td>17933894050</td>\n",
       "      <td>28023.375629</td>\n",
       "      <td>2.109848</td>\n",
       "    </tr>\n",
       "    <tr>\n",
       "      <th>2034</th>\n",
       "      <td>57913</td>\n",
       "      <td>6108789152433</td>\n",
       "      <td>10321925662713</td>\n",
       "      <td>14387819301537</td>\n",
       "      <td>17933894844</td>\n",
       "      <td>28023.404379</td>\n",
       "      <td>2.110851</td>\n",
       "    </tr>\n",
       "    <tr>\n",
       "      <th>2035</th>\n",
       "      <td>57927</td>\n",
       "      <td>6107979194268</td>\n",
       "      <td>10320320045917</td>\n",
       "      <td>14384236514720</td>\n",
       "      <td>17928879844</td>\n",
       "      <td>27875.867403</td>\n",
       "      <td>2.111743</td>\n",
       "    </tr>\n",
       "    <tr>\n",
       "      <th>2036</th>\n",
       "      <td>57930</td>\n",
       "      <td>6108789870350</td>\n",
       "      <td>10321926655615</td>\n",
       "      <td>14387821516412</td>\n",
       "      <td>17933896222</td>\n",
       "      <td>28023.432885</td>\n",
       "      <td>2.111916</td>\n",
       "    </tr>\n",
       "    <tr>\n",
       "      <th>2037</th>\n",
       "      <td>57945</td>\n",
       "      <td>6108790425828</td>\n",
       "      <td>10321927434301</td>\n",
       "      <td>14387823253483</td>\n",
       "      <td>17933897440</td>\n",
       "      <td>28023.461772</td>\n",
       "      <td>2.113066</td>\n",
       "    </tr>\n",
       "    <tr>\n",
       "      <th>2038</th>\n",
       "      <td>57961</td>\n",
       "      <td>6108791065255</td>\n",
       "      <td>10321928277899</td>\n",
       "      <td>14387825135351</td>\n",
       "      <td>17933898714</td>\n",
       "      <td>28023.518768</td>\n",
       "      <td>2.114482</td>\n",
       "    </tr>\n",
       "  </tbody>\n",
       "</table>\n",
       "</div>"
      ],
      "text/plain": [
       "          i  instructions_diff     cycles_diff  ref_cycles_diff   \n",
       "2032  57866      6108788271841  10321924170240   14387815972221  \\\n",
       "2033  57897      6108788666437  10321924990990   14387817803194   \n",
       "2034  57913      6108789152433  10321925662713   14387819301537   \n",
       "2035  57927      6107979194268  10320320045917   14384236514720   \n",
       "2036  57930      6108789870350  10321926655615   14387821516412   \n",
       "2037  57945      6108790425828  10321927434301   14387823253483   \n",
       "2038  57961      6108791065255  10321928277899   14387825135351   \n",
       "\n",
       "      llc_miss_diff   joules_diff  timestamp_diff  \n",
       "2032    17933893107  28023.346590        2.108805  \n",
       "2033    17933894050  28023.375629        2.109848  \n",
       "2034    17933894844  28023.404379        2.110851  \n",
       "2035    17928879844  27875.867403        2.111743  \n",
       "2036    17933896222  28023.432885        2.111916  \n",
       "2037    17933897440  28023.461772        2.113066  \n",
       "2038    17933898714  28023.518768        2.114482  "
      ]
     },
     "execution_count": 109,
     "metadata": {},
     "output_type": "execute_result"
    }
   ],
   "source": [
    "a.loc[2035-3:2035+3]"
   ]
  },
  {
   "cell_type": "code",
   "execution_count": 110,
   "id": "a73df018",
   "metadata": {},
   "outputs": [
    {
     "data": {
      "text/html": [
       "<div>\n",
       "<style scoped>\n",
       "    .dataframe tbody tr th:only-of-type {\n",
       "        vertical-align: middle;\n",
       "    }\n",
       "\n",
       "    .dataframe tbody tr th {\n",
       "        vertical-align: top;\n",
       "    }\n",
       "\n",
       "    .dataframe thead th {\n",
       "        text-align: right;\n",
       "    }\n",
       "</style>\n",
       "<table border=\"1\" class=\"dataframe\">\n",
       "  <thead>\n",
       "    <tr style=\"text-align: right;\">\n",
       "      <th></th>\n",
       "      <th>i</th>\n",
       "      <th>instructions_diff</th>\n",
       "      <th>cycles_diff</th>\n",
       "      <th>ref_cycles_diff</th>\n",
       "      <th>llc_miss_diff</th>\n",
       "      <th>joules_diff</th>\n",
       "      <th>timestamp_diff</th>\n",
       "    </tr>\n",
       "  </thead>\n",
       "  <tbody>\n",
       "    <tr>\n",
       "      <th>2032</th>\n",
       "      <td>41.0</td>\n",
       "      <td>465913.0</td>\n",
       "      <td>1.012776e+06</td>\n",
       "      <td>2.259390e+06</td>\n",
       "      <td>1149.0</td>\n",
       "      <td>0.028979</td>\n",
       "      <td>0.001006</td>\n",
       "    </tr>\n",
       "    <tr>\n",
       "      <th>2033</th>\n",
       "      <td>31.0</td>\n",
       "      <td>394596.0</td>\n",
       "      <td>8.207500e+05</td>\n",
       "      <td>1.830973e+06</td>\n",
       "      <td>943.0</td>\n",
       "      <td>0.029040</td>\n",
       "      <td>0.001043</td>\n",
       "    </tr>\n",
       "    <tr>\n",
       "      <th>2034</th>\n",
       "      <td>16.0</td>\n",
       "      <td>485996.0</td>\n",
       "      <td>6.717230e+05</td>\n",
       "      <td>1.498343e+06</td>\n",
       "      <td>794.0</td>\n",
       "      <td>0.028750</td>\n",
       "      <td>0.001003</td>\n",
       "    </tr>\n",
       "    <tr>\n",
       "      <th>2035</th>\n",
       "      <td>14.0</td>\n",
       "      <td>-809958165.0</td>\n",
       "      <td>-1.605617e+09</td>\n",
       "      <td>-3.582787e+09</td>\n",
       "      <td>-5015000.0</td>\n",
       "      <td>-147.536976</td>\n",
       "      <td>0.000892</td>\n",
       "    </tr>\n",
       "    <tr>\n",
       "      <th>2036</th>\n",
       "      <td>3.0</td>\n",
       "      <td>810676082.0</td>\n",
       "      <td>1.606610e+09</td>\n",
       "      <td>3.585002e+09</td>\n",
       "      <td>5016378.0</td>\n",
       "      <td>147.565482</td>\n",
       "      <td>0.000173</td>\n",
       "    </tr>\n",
       "    <tr>\n",
       "      <th>2037</th>\n",
       "      <td>15.0</td>\n",
       "      <td>555478.0</td>\n",
       "      <td>7.786860e+05</td>\n",
       "      <td>1.737071e+06</td>\n",
       "      <td>1218.0</td>\n",
       "      <td>0.028887</td>\n",
       "      <td>0.001150</td>\n",
       "    </tr>\n",
       "    <tr>\n",
       "      <th>2038</th>\n",
       "      <td>16.0</td>\n",
       "      <td>639427.0</td>\n",
       "      <td>8.435980e+05</td>\n",
       "      <td>1.881868e+06</td>\n",
       "      <td>1274.0</td>\n",
       "      <td>0.056996</td>\n",
       "      <td>0.001416</td>\n",
       "    </tr>\n",
       "  </tbody>\n",
       "</table>\n",
       "</div>"
      ],
      "text/plain": [
       "         i  instructions_diff   cycles_diff  ref_cycles_diff  llc_miss_diff   \n",
       "2032  41.0           465913.0  1.012776e+06     2.259390e+06         1149.0  \\\n",
       "2033  31.0           394596.0  8.207500e+05     1.830973e+06          943.0   \n",
       "2034  16.0           485996.0  6.717230e+05     1.498343e+06          794.0   \n",
       "2035  14.0       -809958165.0 -1.605617e+09    -3.582787e+09     -5015000.0   \n",
       "2036   3.0        810676082.0  1.606610e+09     3.585002e+09      5016378.0   \n",
       "2037  15.0           555478.0  7.786860e+05     1.737071e+06         1218.0   \n",
       "2038  16.0           639427.0  8.435980e+05     1.881868e+06         1274.0   \n",
       "\n",
       "      joules_diff  timestamp_diff  \n",
       "2032     0.028979        0.001006  \n",
       "2033     0.029040        0.001043  \n",
       "2034     0.028750        0.001003  \n",
       "2035  -147.536976        0.000892  \n",
       "2036   147.565482        0.000173  \n",
       "2037     0.028887        0.001150  \n",
       "2038     0.056996        0.001416  "
      ]
     },
     "execution_count": 110,
     "metadata": {},
     "output_type": "execute_result"
    }
   ],
   "source": [
    "b.loc[2035-3:2035+3]"
   ]
  },
  {
   "cell_type": "code",
   "execution_count": null,
   "id": "75ce038e",
   "metadata": {},
   "outputs": [],
   "source": []
  }
 ],
 "metadata": {
  "kernelspec": {
   "display_name": "Python 3 (ipykernel)",
   "language": "python",
   "name": "python3"
  },
  "language_info": {
   "codemirror_mode": {
    "name": "ipython",
    "version": 3
   },
   "file_extension": ".py",
   "mimetype": "text/x-python",
   "name": "python",
   "nbconvert_exporter": "python",
   "pygments_lexer": "ipython3",
   "version": "3.10.4"
  },
  "toc": {
   "base_numbering": 1,
   "nav_menu": {},
   "number_sections": true,
   "sideBar": true,
   "skip_h1_title": false,
   "title_cell": "Table of Contents",
   "title_sidebar": "Contents",
   "toc_cell": false,
   "toc_position": {},
   "toc_section_display": true,
   "toc_window_display": false
  }
 },
 "nbformat": 4,
 "nbformat_minor": 5
}
